{
 "cells": [
  {
   "cell_type": "code",
   "execution_count": 1,
   "metadata": {},
   "outputs": [],
   "source": [
    "import os\n",
    "import shutil"
   ]
  },
  {
   "cell_type": "code",
   "execution_count": 2,
   "metadata": {},
   "outputs": [],
   "source": [
    "des_neutral=\"./0\"\n",
    "des_calm=\"./1\"\n",
    "des_happy=\"./2\"\n",
    "des_sad=\"./3\"\n",
    "des_angry=\"./4\"\n",
    "des_fearful=\"./5\"\n",
    "des_disgust=\"./6\"\n",
    "des_surprised=\"./7\""
   ]
  },
  {
   "cell_type": "code",
   "execution_count": 4,
   "metadata": {},
   "outputs": [],
   "source": [
    "d=os.listdir(\"RAVDESS/\")"
   ]
  },
  {
   "cell_type": "code",
   "execution_count": 27,
   "metadata": {},
   "outputs": [
    {
     "name": "stdout",
     "output_type": "stream",
     "text": [
      "Actor_10\n",
      "Actor_08\n",
      "Actor_19\n",
      "Actor_01\n",
      "Actor_17\n",
      "Actor_16\n",
      "Actor_24\n",
      "Actor_22\n",
      "Actor_06\n",
      "Actor_12\n",
      "Actor_23\n",
      "Actor_09\n",
      "Actor_14\n",
      "Actor_05\n",
      "Actor_20\n",
      "Actor_21\n",
      "Actor_11\n",
      "Actor_13\n",
      "Actor_07\n",
      "Actor_15\n",
      "Actor_04\n",
      "Actor_02\n",
      "Actor_18\n",
      "Actor_03\n"
     ]
    }
   ],
   "source": [
    "for folder in d:\n",
    "    files=os.listdir(\"./Audio_Song_Actors_01-24/\"+folder)\n",
    "    print(folder)\n",
    "    for f in files:\n",
    "        idf=f[6:8]\n",
    "        if idf==\"01\":\n",
    "            shutil.move(\"./Audio_Song_Actors_01-24/\"+folder+\"//\"+f,des_neutral)\n",
    "        elif idf==\"02\":\n",
    "            shutil.move(\"./Audio_Song_Actors_01-24/\"+folder+\"//\"+f,des_calm)\n",
    "        elif idf==\"03\":\n",
    "            shutil.move(\"./Audio_Song_Actors_01-24/\"+folder+\"//\"+f,des_happy)\n",
    "        elif idf==\"04\":\n",
    "            shutil.move(\"./Audio_Song_Actors_01-24/\"+folder+\"//\"+f,des_sad)\n",
    "        elif idf==\"05\":\n",
    "            shutil.move(\"./Audio_Song_Actors_01-24/\"+folder+\"//\"+f,des_angry)\n",
    "        elif idf==\"06\":\n",
    "            shutil.move(\"./Audio_Song_Actors_01-24/\"+folder+\"//\"+f,des_fearful)\n",
    "        elif idf==\"07\":\n",
    "            shutil.move(\"./Audio_Song_Actors_01-24/\"+folder+\"//\"+f,des_disgust)\n",
    "        elif idf==\"08\":\n",
    "            shutil.move(\"./Audio_Song_Actors_01-24/\"+folder+\"//\"+f,des_surprised)\n",
    "    "
   ]
  },
  {
   "cell_type": "code",
   "execution_count": null,
   "metadata": {},
   "outputs": [],
   "source": []
  }
 ],
 "metadata": {
  "kernelspec": {
   "display_name": "Python 3",
   "language": "python",
   "name": "python3"
  },
  "language_info": {
   "codemirror_mode": {
    "name": "ipython",
    "version": 3
   },
   "file_extension": ".py",
   "mimetype": "text/x-python",
   "name": "python",
   "nbconvert_exporter": "python",
   "pygments_lexer": "ipython3",
   "version": "3.7.3"
  }
 },
 "nbformat": 4,
 "nbformat_minor": 2
}
